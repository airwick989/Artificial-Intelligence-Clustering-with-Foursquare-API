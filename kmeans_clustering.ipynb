{
 "cells": [
  {
   "cell_type": "code",
   "execution_count": 1,
   "metadata": {},
   "outputs": [
    {
     "name": "stderr",
     "output_type": "stream",
     "text": [
      "No artists with labels found to put in legend.  Note that artists whose label start with an underscore are ignored when legend() is called with no argument.\n"
     ]
    },
    {
     "data": {
      "image/png": "[encoded data removed]",
      "text/plain": [
       "<Figure size 432x288 with 1 Axes>"
      ]
     },
     "metadata": {
      "needs_background": "light"
     },
     "output_type": "display_data"
    }
   ],
   "source": [
    "from sklearn.cluster import KMeans\n",
    "import pandas as pd\n",
    "from sklearn.preprocessing import MinMaxScaler\n",
    "from matplotlib import pyplot as plt\n",
    "\n",
    "cluster_data = pd.read_csv(\"processed_data.csv\")\n",
    "\n",
    "km = KMeans(n_clusters=3)\n",
    "\n",
    "y_predicted = km.fit_predict(cluster_data[[\"hood_id\", \"score\"]])\n",
    "\n",
    "cluster_data[\"cluster\"] = y_predicted\n",
    "\n",
    "df1 = cluster_data[cluster_data.cluster == 0]\n",
    "df2 =cluster_data[cluster_data.cluster == 1]\n",
    "df3=cluster_data[cluster_data.cluster == 2]\n",
    "\n",
    "plt.scatter( df1[\"hood_id\"], df1[\"score\"], color=\"red\")\n",
    "plt.scatter(df2[\"hood_id\"], df2[\"score\"], color=\"green\")\n",
    "plt.scatter(df3[\"hood_id\"], df3[\"score\"], color=\"blue\")\n",
    "\n",
    "plt.xlabel(\"Hood ID\")\n",
    "plt.ylabel(\"Score\")\n",
    "plt.legend()\n",
    "\n",
    "df = pd.DataFrame(cluster_data[[\"hood_id\", \"neighborhood\", \"score\", \"cluster\"]])\n",
    "df.head()\n",
    "df.to_csv(\"segmented_neighborhoods.csv\")\n"
   ]
  }
 ],
 "metadata": {
  "interpreter": {
   "hash": "62b507ebd0d248a5a43a78a429e2715f621e28b4c34158484005536e59c669a2"
  },
  "kernelspec": {
   "display_name": "Python 3.10.0 64-bit ('intro-to-ai-project')",
   "language": "python",
   "name": "python3"
  },
  "language_info": {
   "codemirror_mode": {
    "name": "ipython",
    "version": 3
   },
   "file_extension": ".py",
   "mimetype": "text/x-python",
   "name": "python",
   "nbconvert_exporter": "python",
   "pygments_lexer": "ipython3",
   "version": "3.10.0"
  },
  "orig_nbformat": 4
 },
 "nbformat": 4,
 "nbformat_minor": 2
}
