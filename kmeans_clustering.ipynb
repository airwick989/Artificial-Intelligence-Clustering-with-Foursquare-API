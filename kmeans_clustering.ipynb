{
 "cells": [
  {
   "cell_type": "code",
   "execution_count": 8,
   "metadata": {},
   "outputs": [
    {
     "name": "stderr",
     "output_type": "stream",
     "text": [
      "No handles with labels found to put in legend.\n"
     ]
    },
    {
     "name": "stdout",
     "output_type": "stream",
     "text": [
      "    hood_id                              neighborhood       score  cluster\n",
      "0        63                          The Beaches (63)   465570.93        2\n",
      "1        93  Dovercourt-Wallace Emerson-Junction (93)   212023.86        0\n",
      "2       108                Briar Hill-Belgravia (108)    81731.82        0\n",
      "3        98                  Rosedale-Moore Park (98)   944045.29        1\n",
      "4        95                                Annex (95)   761499.10        2\n",
      "5        89         Runnymede-Bloor West Village (89)   105552.68        0\n",
      "6        55                     Thorncliffe Park (55)    28604.05        0\n",
      "7        99                  Mount Pleasant East (99)   105881.15        0\n",
      "8       127                             Bendale (127)    58773.00        0\n",
      "9        69                          Blake-Jones (69)   101675.10        0\n",
      "10       65                    Greenwood-Coxwell (65)   217697.56        0\n",
      "11       70                      South Riverdale (70)   750123.69        2\n",
      "12       77    Waterfront Communities-The Island (77)   919067.42        1\n",
      "13       73                            Moss Park (73)   503606.50        2\n",
      "14       42                    Banbury-Don Mills (42)    37013.85        0\n",
      "15      100                      Yonge-Eglinton (100)   192190.91        0\n",
      "16       79                           University (79)   294202.30        0\n",
      "17       78                 Kensington-Chinatown (78)  1037767.84        1\n",
      "18       81                    Trinity-Bellwoods (81)   253224.99        0\n",
      "19       94                             Wychwood (94)   163849.23        0\n",
      "20       80              Palmerston-Little Italy (80)   107514.37        0\n",
      "21       82                              Niagara (82)  1395211.45        1\n",
      "22       84                      Little Portugal (84)   472313.02        2\n",
      "23      107                     Oakwood Village (107)    72653.93        0\n",
      "24       83                       Dufferin Grove (83)   282152.62        0\n",
      "25       86                         Roncesvalles (86)   234449.13        0\n",
      "26       38                     Lansing-Westgate (38)    55167.43        0\n",
      "27       88                      High Park North (88)   188693.86        0\n",
      "28       85                       South Parkdale (85)   327063.59        0\n",
      "29       90                        Junction Area (90)   137578.55        0\n",
      "30       31                   Yorkdale-Glen Park (31)   187134.94        0\n"
     ]
    },
    {
     "data": {
      "image/png": "[encoded data removed]",
      "text/plain": [
       "<Figure size 432x288 with 1 Axes>"
      ]
     },
     "metadata": {
      "needs_background": "light"
     },
     "output_type": "display_data"
    }
   ],
   "source": [
    "from sklearn.cluster import KMeans\n",
    "import pandas as pd\n",
    "from sklearn.preprocessing import MinMaxScaler\n",
    "from matplotlib import pyplot as plt\n",
    "\n",
    "cluster_data = pd.read_csv(\"processed_data.csv\")\n",
    "\n",
    "km = KMeans(n_clusters=3)\n",
    "\n",
    "y_predicted = km.fit_predict(cluster_data[[\"hood_id\", \"score\"]])\n",
    "\n",
    "cluster_data[\"cluster\"] = y_predicted\n",
    "\n",
    "df1 = cluster_data[cluster_data.cluster == 0]\n",
    "df2 =cluster_data[cluster_data.cluster == 1]\n",
    "df3=cluster_data[cluster_data.cluster == 2]\n",
    "\n",
    "plt.scatter( df1[\"hood_id\"], df1[\"score\"], color=\"red\")\n",
    "plt.scatter(df2[\"hood_id\"], df2[\"score\"], color=\"green\")\n",
    "plt.scatter(df3[\"hood_id\"], df3[\"score\"], color=\"blue\")\n",
    "\n",
    "plt.xlabel(\"Hood ID\")\n",
    "plt.ylabel(\"Score\")\n",
    "plt.legend()\n",
    "\n",
    "df = pd.DataFrame(cluster_data[[\"hood_id\", \"neighborhood\", \"score\", \"cluster\"]])\n",
    "print(df)\n",
    "df.to_csv(\"segmented_neighborhoods.csv\")\n"
   ]
  }
 ],
 "metadata": {
  "interpreter": {
   "hash": "62b507ebd0d248a5a43a78a429e2715f621e28b4c34158484005536e59c669a2"
  },
  "kernelspec": {
   "display_name": "Python 3.10.0 64-bit ('intro-to-ai-project')",
   "language": "python",
   "name": "python3"
  },
  "language_info": {
   "codemirror_mode": {
    "name": "ipython",
    "version": 3
   },
   "file_extension": ".py",
   "mimetype": "text/x-python",
   "name": "python",
   "nbconvert_exporter": "python",
   "pygments_lexer": "ipython3",
   "version": "3.8.5"
  },
  "orig_nbformat": 4
 },
 "nbformat": 4,
 "nbformat_minor": 2
}
