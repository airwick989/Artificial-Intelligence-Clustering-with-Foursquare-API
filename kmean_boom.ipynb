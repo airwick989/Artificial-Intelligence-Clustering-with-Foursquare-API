{
 "cells": [
  {
   "cell_type": "code",
   "execution_count": 41,
   "metadata": {},
   "outputs": [
    {
     "name": "stderr",
     "output_type": "stream",
     "text": [
      "No artists with labels found to put in legend.  Note that artists whose label start with an underscore are ignored when legend() is called with no argument.\n"
     ]
    },
    {
     "name": "stdout",
     "output_type": "stream",
     "text": [
      "[0 1 1 0 2 1 1 1 1 1 1 0 2 2 1 1 1 2 1 1 1 2 1 1 1 1 1 1 1 0 1]\n"
     ]
    },
    {
     "data": {
      "text/plain": [
       "<matplotlib.legend.Legend at 0x7f9b4d60e680>"
      ]
     },
     "execution_count": 41,
     "metadata": {},
     "output_type": "execute_result"
    },
    {
     "data": {
      "image/png": "[encoded data removed]",
      "text/plain": [
       "<Figure size 432x288 with 1 Axes>"
      ]
     },
     "metadata": {
      "needs_background": "light"
     },
     "output_type": "display_data"
    }
   ],
   "source": [
    "from sklearn.cluster import KMeans\n",
    "import pandas as pd\n",
    "from sklearn.preprocessing import MinMaxScaler\n",
    "from matplotlib import pyplot as plt\n",
    "\n",
    "filt_df = pd.read_csv(\"filtered_bicycle_thefts.csv\")\n",
    "bic_shop_coords_df = pd.read_csv(\"bicycle_shop_coordinates.csv\")\n",
    "cluster_data_df = pd.read_csv(\"cluster_data.csv\")\n",
    "cluster_data_update_df = pd.read_csv(\"cluster_data_updated.csv\")\n",
    "\n",
    "#print(filt_df.head())\n",
    "\n",
    "#print(bic_shop_coords_df.head())\n",
    "\n",
    "#print(cluster_data_df.head())\n",
    "\n",
    "#plt.scatter(cluster_data_df[\"bike_thefts\"], cluster_data_df[\"number of bike shops\"])\n",
    "\n",
    "#plt.scatter(x = cluster_data_update_df[\"average_bicycle_cost\"], y= cluster_data_update_df[\"score\"])\n",
    "\n",
    "km = KMeans(n_clusters=3)\n",
    "\n",
    "y_predicted = km.fit_predict(cluster_data_update_df[[\"average_bicycle_cost\", \"score\", \"bike_thefts\"]])\n",
    "print(y_predicted)\n",
    "\n",
    "cluster_data_update_df[\"cluster\"] = y_predicted\n",
    "cluster_data_update_df.head()\n",
    "\n",
    "df1 = cluster_data_update_df[cluster_data_update_df.cluster == 0]\n",
    "df2 =cluster_data_update_df[cluster_data_update_df.cluster == 1]\n",
    "df3=cluster_data_update_df[cluster_data_update_df.cluster == 2]\n",
    "#df4=cluster_data_update_df[cluster_data_update_df.cluster == 3]\n",
    "#df5=cluster_data_update_df[cluster_data_update_df.cluster == 4]\n",
    "\n",
    "plt.scatter(df1[\"average_bicycle_cost\"], df1[\"score\"], color=\"blue\")\n",
    "plt.scatter(df2[\"average_bicycle_cost\"], df2[\"score\"], color=\"red\")\n",
    "plt.scatter(df3[\"average_bicycle_cost\"], df3[\"score\"], color=\"green\")\n",
    "#plt.scatter(df4[\"average_bicycle_cost\"], df4[\"score\"], color=\"black\")\n",
    "#plt.scatter(df5[\"average_bicycle_cost\"], df5[\"score\"], color=\"purple\")\n",
    "\n",
    "plt.xlabel(\"Average bicycle cost\")\n",
    "plt.ylabel(\"Bike thefts / number of bike shops\")\n",
    "plt.legend()\n",
    "\n",
    "\n",
    "\n"
   ]
  }
 ],
 "metadata": {
  "interpreter": {
   "hash": "62b507ebd0d248a5a43a78a429e2715f621e28b4c34158484005536e59c669a2"
  },
  "kernelspec": {
   "display_name": "Python 3.10.0 64-bit ('intro-to-ai-project')",
   "language": "python",
   "name": "python3"
  },
  "language_info": {
   "codemirror_mode": {
    "name": "ipython",
    "version": 3
   },
   "file_extension": ".py",
   "mimetype": "text/x-python",
   "name": "python",
   "nbconvert_exporter": "python",
   "pygments_lexer": "ipython3",
   "version": "3.10.0"
  },
  "orig_nbformat": 4
 },
 "nbformat": 4,
 "nbformat_minor": 2
}
